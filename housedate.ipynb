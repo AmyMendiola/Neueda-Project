{
 "cells": [
  {
   "cell_type": "code",
   "execution_count": 2,
   "metadata": {
    "ExecuteTime": {
     "start_time": "2023-06-09T14:20:56.870412Z",
     "end_time": "2023-06-09T14:20:57.258470Z"
    }
   },
   "outputs": [],
   "source": [
    "import pandas as pd\n",
    "import numpy as np\n",
    "import matplotlib.pyplot as plt\n",
    "%matplotlib inline\n",
    "\n",
    "pd.options.display.float_format = '{:,.2f}'.format"
   ]
  },
  {
   "cell_type": "code",
   "execution_count": 5,
   "metadata": {
    "ExecuteTime": {
     "start_time": "2023-06-09T14:22:00.746898Z",
     "end_time": "2023-06-09T14:22:00.814718Z"
    }
   },
   "outputs": [],
   "source": [
    "df = pd.read_csv('kc_house_data.csv')"
   ]
  },
  {
   "cell_type": "code",
   "execution_count": 6,
   "outputs": [
    {
     "data": {
      "text/plain": "               id             date      price  bedrooms  bathrooms  \\\n0      7129300520  20141013T000000 221,900.00         3       1.00   \n1      6414100192  20141209T000000 538,000.00         3       2.25   \n2      5631500400  20150225T000000 180,000.00         2       1.00   \n3      2487200875  20141209T000000 604,000.00         4       3.00   \n4      1954400510  20150218T000000 510,000.00         3       2.00   \n...           ...              ...        ...       ...        ...   \n21608   263000018  20140521T000000 360,000.00         3       2.50   \n21609  6600060120  20150223T000000 400,000.00         4       2.50   \n21610  1523300141  20140623T000000 402,101.00         2       0.75   \n21611   291310100  20150116T000000 400,000.00         3       2.50   \n21612  1523300157  20141015T000000 325,000.00         2       0.75   \n\n       sqft_living  sqft_lot  floors  waterfront  view  ...  grade  \\\n0             1180      5650    1.00           0     0  ...      7   \n1             2570      7242    2.00           0     0  ...      7   \n2              770     10000    1.00           0     0  ...      6   \n3             1960      5000    1.00           0     0  ...      7   \n4             1680      8080    1.00           0     0  ...      8   \n...            ...       ...     ...         ...   ...  ...    ...   \n21608         1530      1131    3.00           0     0  ...      8   \n21609         2310      5813    2.00           0     0  ...      8   \n21610         1020      1350    2.00           0     0  ...      7   \n21611         1600      2388    2.00           0     0  ...      8   \n21612         1020      1076    2.00           0     0  ...      7   \n\n       sqft_above  sqft_basement  yr_built  yr_renovated  zipcode   lat  \\\n0            1180              0      1955             0    98178 47.51   \n1            2170            400      1951          1991    98125 47.72   \n2             770              0      1933             0    98028 47.74   \n3            1050            910      1965             0    98136 47.52   \n4            1680              0      1987             0    98074 47.62   \n...           ...            ...       ...           ...      ...   ...   \n21608        1530              0      2009             0    98103 47.70   \n21609        2310              0      2014             0    98146 47.51   \n21610        1020              0      2009             0    98144 47.59   \n21611        1600              0      2004             0    98027 47.53   \n21612        1020              0      2008             0    98144 47.59   \n\n         long  sqft_living15  sqft_lot15  \n0     -122.26           1340        5650  \n1     -122.32           1690        7639  \n2     -122.23           2720        8062  \n3     -122.39           1360        5000  \n4     -122.05           1800        7503  \n...       ...            ...         ...  \n21608 -122.35           1530        1509  \n21609 -122.36           1830        7200  \n21610 -122.30           1020        2007  \n21611 -122.07           1410        1287  \n21612 -122.30           1020        1357  \n\n[21613 rows x 21 columns]",
      "text/html": "<div>\n<style scoped>\n    .dataframe tbody tr th:only-of-type {\n        vertical-align: middle;\n    }\n\n    .dataframe tbody tr th {\n        vertical-align: top;\n    }\n\n    .dataframe thead th {\n        text-align: right;\n    }\n</style>\n<table border=\"1\" class=\"dataframe\">\n  <thead>\n    <tr style=\"text-align: right;\">\n      <th></th>\n      <th>id</th>\n      <th>date</th>\n      <th>price</th>\n      <th>bedrooms</th>\n      <th>bathrooms</th>\n      <th>sqft_living</th>\n      <th>sqft_lot</th>\n      <th>floors</th>\n      <th>waterfront</th>\n      <th>view</th>\n      <th>...</th>\n      <th>grade</th>\n      <th>sqft_above</th>\n      <th>sqft_basement</th>\n      <th>yr_built</th>\n      <th>yr_renovated</th>\n      <th>zipcode</th>\n      <th>lat</th>\n      <th>long</th>\n      <th>sqft_living15</th>\n      <th>sqft_lot15</th>\n    </tr>\n  </thead>\n  <tbody>\n    <tr>\n      <th>0</th>\n      <td>7129300520</td>\n      <td>20141013T000000</td>\n      <td>221,900.00</td>\n      <td>3</td>\n      <td>1.00</td>\n      <td>1180</td>\n      <td>5650</td>\n      <td>1.00</td>\n      <td>0</td>\n      <td>0</td>\n      <td>...</td>\n      <td>7</td>\n      <td>1180</td>\n      <td>0</td>\n      <td>1955</td>\n      <td>0</td>\n      <td>98178</td>\n      <td>47.51</td>\n      <td>-122.26</td>\n      <td>1340</td>\n      <td>5650</td>\n    </tr>\n    <tr>\n      <th>1</th>\n      <td>6414100192</td>\n      <td>20141209T000000</td>\n      <td>538,000.00</td>\n      <td>3</td>\n      <td>2.25</td>\n      <td>2570</td>\n      <td>7242</td>\n      <td>2.00</td>\n      <td>0</td>\n      <td>0</td>\n      <td>...</td>\n      <td>7</td>\n      <td>2170</td>\n      <td>400</td>\n      <td>1951</td>\n      <td>1991</td>\n      <td>98125</td>\n      <td>47.72</td>\n      <td>-122.32</td>\n      <td>1690</td>\n      <td>7639</td>\n    </tr>\n    <tr>\n      <th>2</th>\n      <td>5631500400</td>\n      <td>20150225T000000</td>\n      <td>180,000.00</td>\n      <td>2</td>\n      <td>1.00</td>\n      <td>770</td>\n      <td>10000</td>\n      <td>1.00</td>\n      <td>0</td>\n      <td>0</td>\n      <td>...</td>\n      <td>6</td>\n      <td>770</td>\n      <td>0</td>\n      <td>1933</td>\n      <td>0</td>\n      <td>98028</td>\n      <td>47.74</td>\n      <td>-122.23</td>\n      <td>2720</td>\n      <td>8062</td>\n    </tr>\n    <tr>\n      <th>3</th>\n      <td>2487200875</td>\n      <td>20141209T000000</td>\n      <td>604,000.00</td>\n      <td>4</td>\n      <td>3.00</td>\n      <td>1960</td>\n      <td>5000</td>\n      <td>1.00</td>\n      <td>0</td>\n      <td>0</td>\n      <td>...</td>\n      <td>7</td>\n      <td>1050</td>\n      <td>910</td>\n      <td>1965</td>\n      <td>0</td>\n      <td>98136</td>\n      <td>47.52</td>\n      <td>-122.39</td>\n      <td>1360</td>\n      <td>5000</td>\n    </tr>\n    <tr>\n      <th>4</th>\n      <td>1954400510</td>\n      <td>20150218T000000</td>\n      <td>510,000.00</td>\n      <td>3</td>\n      <td>2.00</td>\n      <td>1680</td>\n      <td>8080</td>\n      <td>1.00</td>\n      <td>0</td>\n      <td>0</td>\n      <td>...</td>\n      <td>8</td>\n      <td>1680</td>\n      <td>0</td>\n      <td>1987</td>\n      <td>0</td>\n      <td>98074</td>\n      <td>47.62</td>\n      <td>-122.05</td>\n      <td>1800</td>\n      <td>7503</td>\n    </tr>\n    <tr>\n      <th>...</th>\n      <td>...</td>\n      <td>...</td>\n      <td>...</td>\n      <td>...</td>\n      <td>...</td>\n      <td>...</td>\n      <td>...</td>\n      <td>...</td>\n      <td>...</td>\n      <td>...</td>\n      <td>...</td>\n      <td>...</td>\n      <td>...</td>\n      <td>...</td>\n      <td>...</td>\n      <td>...</td>\n      <td>...</td>\n      <td>...</td>\n      <td>...</td>\n      <td>...</td>\n      <td>...</td>\n    </tr>\n    <tr>\n      <th>21608</th>\n      <td>263000018</td>\n      <td>20140521T000000</td>\n      <td>360,000.00</td>\n      <td>3</td>\n      <td>2.50</td>\n      <td>1530</td>\n      <td>1131</td>\n      <td>3.00</td>\n      <td>0</td>\n      <td>0</td>\n      <td>...</td>\n      <td>8</td>\n      <td>1530</td>\n      <td>0</td>\n      <td>2009</td>\n      <td>0</td>\n      <td>98103</td>\n      <td>47.70</td>\n      <td>-122.35</td>\n      <td>1530</td>\n      <td>1509</td>\n    </tr>\n    <tr>\n      <th>21609</th>\n      <td>6600060120</td>\n      <td>20150223T000000</td>\n      <td>400,000.00</td>\n      <td>4</td>\n      <td>2.50</td>\n      <td>2310</td>\n      <td>5813</td>\n      <td>2.00</td>\n      <td>0</td>\n      <td>0</td>\n      <td>...</td>\n      <td>8</td>\n      <td>2310</td>\n      <td>0</td>\n      <td>2014</td>\n      <td>0</td>\n      <td>98146</td>\n      <td>47.51</td>\n      <td>-122.36</td>\n      <td>1830</td>\n      <td>7200</td>\n    </tr>\n    <tr>\n      <th>21610</th>\n      <td>1523300141</td>\n      <td>20140623T000000</td>\n      <td>402,101.00</td>\n      <td>2</td>\n      <td>0.75</td>\n      <td>1020</td>\n      <td>1350</td>\n      <td>2.00</td>\n      <td>0</td>\n      <td>0</td>\n      <td>...</td>\n      <td>7</td>\n      <td>1020</td>\n      <td>0</td>\n      <td>2009</td>\n      <td>0</td>\n      <td>98144</td>\n      <td>47.59</td>\n      <td>-122.30</td>\n      <td>1020</td>\n      <td>2007</td>\n    </tr>\n    <tr>\n      <th>21611</th>\n      <td>291310100</td>\n      <td>20150116T000000</td>\n      <td>400,000.00</td>\n      <td>3</td>\n      <td>2.50</td>\n      <td>1600</td>\n      <td>2388</td>\n      <td>2.00</td>\n      <td>0</td>\n      <td>0</td>\n      <td>...</td>\n      <td>8</td>\n      <td>1600</td>\n      <td>0</td>\n      <td>2004</td>\n      <td>0</td>\n      <td>98027</td>\n      <td>47.53</td>\n      <td>-122.07</td>\n      <td>1410</td>\n      <td>1287</td>\n    </tr>\n    <tr>\n      <th>21612</th>\n      <td>1523300157</td>\n      <td>20141015T000000</td>\n      <td>325,000.00</td>\n      <td>2</td>\n      <td>0.75</td>\n      <td>1020</td>\n      <td>1076</td>\n      <td>2.00</td>\n      <td>0</td>\n      <td>0</td>\n      <td>...</td>\n      <td>7</td>\n      <td>1020</td>\n      <td>0</td>\n      <td>2008</td>\n      <td>0</td>\n      <td>98144</td>\n      <td>47.59</td>\n      <td>-122.30</td>\n      <td>1020</td>\n      <td>1357</td>\n    </tr>\n  </tbody>\n</table>\n<p>21613 rows × 21 columns</p>\n</div>"
     },
     "execution_count": 6,
     "metadata": {},
     "output_type": "execute_result"
    }
   ],
   "source": [
    "df"
   ],
   "metadata": {
    "collapsed": false,
    "ExecuteTime": {
     "start_time": "2023-06-09T14:22:09.572937Z",
     "end_time": "2023-06-09T14:22:09.618812Z"
    }
   }
  },
  {
   "cell_type": "code",
   "execution_count": 7,
   "outputs": [],
   "source": [
    "df.drop('id', axis=1, inplace=True)"
   ],
   "metadata": {
    "collapsed": false,
    "ExecuteTime": {
     "start_time": "2023-06-09T14:22:22.074616Z",
     "end_time": "2023-06-09T14:22:22.093594Z"
    }
   }
  },
  {
   "cell_type": "code",
   "execution_count": 8,
   "outputs": [],
   "source": [
    "df['sqft_yard'] = df['sqft_lot'] - df['sqft_living']\n",
    "df['sqft_yard15'] = df['sqft_lot15'] - df['sqft_living15']"
   ],
   "metadata": {
    "collapsed": false,
    "ExecuteTime": {
     "start_time": "2023-06-09T14:23:20.624431Z",
     "end_time": "2023-06-09T14:23:20.639391Z"
    }
   }
  },
  {
   "cell_type": "code",
   "execution_count": 9,
   "outputs": [],
   "source": [
    "df['price_per_sqft'] = df['price'] / df['sqft_lot']"
   ],
   "metadata": {
    "collapsed": false,
    "ExecuteTime": {
     "start_time": "2023-06-09T14:24:05.035818Z",
     "end_time": "2023-06-09T14:24:05.041803Z"
    }
   }
  },
  {
   "cell_type": "code",
   "execution_count": 10,
   "outputs": [],
   "source": [
    "df['norm_price'] = (df[\"price\"] - df['price'].min()) / (df['price'].max() - df['price'].min()) # min-max normalization"
   ],
   "metadata": {
    "collapsed": false,
    "ExecuteTime": {
     "start_time": "2023-06-09T14:25:28.177118Z",
     "end_time": "2023-06-09T14:25:28.193104Z"
    }
   }
  },
  {
   "cell_type": "code",
   "execution_count": 11,
   "outputs": [
    {
     "data": {
      "text/plain": "                  date      price  bedrooms  bathrooms  sqft_living  sqft_lot  \\\n0      20141013T000000 221,900.00         3       1.00         1180      5650   \n1      20141209T000000 538,000.00         3       2.25         2570      7242   \n2      20150225T000000 180,000.00         2       1.00          770     10000   \n3      20141209T000000 604,000.00         4       3.00         1960      5000   \n4      20150218T000000 510,000.00         3       2.00         1680      8080   \n...                ...        ...       ...        ...          ...       ...   \n21608  20140521T000000 360,000.00         3       2.50         1530      1131   \n21609  20150223T000000 400,000.00         4       2.50         2310      5813   \n21610  20140623T000000 402,101.00         2       0.75         1020      1350   \n21611  20150116T000000 400,000.00         3       2.50         1600      2388   \n21612  20141015T000000 325,000.00         2       0.75         1020      1076   \n\n       floors  waterfront  view  condition  ...  yr_renovated  zipcode   lat  \\\n0        1.00           0     0          3  ...             0    98178 47.51   \n1        2.00           0     0          3  ...          1991    98125 47.72   \n2        1.00           0     0          3  ...             0    98028 47.74   \n3        1.00           0     0          5  ...             0    98136 47.52   \n4        1.00           0     0          3  ...             0    98074 47.62   \n...       ...         ...   ...        ...  ...           ...      ...   ...   \n21608    3.00           0     0          3  ...             0    98103 47.70   \n21609    2.00           0     0          3  ...             0    98146 47.51   \n21610    2.00           0     0          3  ...             0    98144 47.59   \n21611    2.00           0     0          3  ...             0    98027 47.53   \n21612    2.00           0     0          3  ...             0    98144 47.59   \n\n         long  sqft_living15  sqft_lot15  sqft_yard  sqft_yard15  \\\n0     -122.26           1340        5650       4470         4310   \n1     -122.32           1690        7639       4672         5949   \n2     -122.23           2720        8062       9230         5342   \n3     -122.39           1360        5000       3040         3640   \n4     -122.05           1800        7503       6400         5703   \n...       ...            ...         ...        ...          ...   \n21608 -122.35           1530        1509       -399          -21   \n21609 -122.36           1830        7200       3503         5370   \n21610 -122.30           1020        2007        330          987   \n21611 -122.07           1410        1287        788         -123   \n21612 -122.30           1020        1357         56          337   \n\n       price_per_sqft  norm_price  \n0               39.27        0.02  \n1               74.29        0.06  \n2               18.00        0.01  \n3              120.80        0.07  \n4               63.12        0.06  \n...               ...         ...  \n21608          318.30        0.04  \n21609           68.81        0.04  \n21610          297.85        0.04  \n21611          167.50        0.04  \n21612          302.04        0.03  \n\n[21613 rows x 24 columns]",
      "text/html": "<div>\n<style scoped>\n    .dataframe tbody tr th:only-of-type {\n        vertical-align: middle;\n    }\n\n    .dataframe tbody tr th {\n        vertical-align: top;\n    }\n\n    .dataframe thead th {\n        text-align: right;\n    }\n</style>\n<table border=\"1\" class=\"dataframe\">\n  <thead>\n    <tr style=\"text-align: right;\">\n      <th></th>\n      <th>date</th>\n      <th>price</th>\n      <th>bedrooms</th>\n      <th>bathrooms</th>\n      <th>sqft_living</th>\n      <th>sqft_lot</th>\n      <th>floors</th>\n      <th>waterfront</th>\n      <th>view</th>\n      <th>condition</th>\n      <th>...</th>\n      <th>yr_renovated</th>\n      <th>zipcode</th>\n      <th>lat</th>\n      <th>long</th>\n      <th>sqft_living15</th>\n      <th>sqft_lot15</th>\n      <th>sqft_yard</th>\n      <th>sqft_yard15</th>\n      <th>price_per_sqft</th>\n      <th>norm_price</th>\n    </tr>\n  </thead>\n  <tbody>\n    <tr>\n      <th>0</th>\n      <td>20141013T000000</td>\n      <td>221,900.00</td>\n      <td>3</td>\n      <td>1.00</td>\n      <td>1180</td>\n      <td>5650</td>\n      <td>1.00</td>\n      <td>0</td>\n      <td>0</td>\n      <td>3</td>\n      <td>...</td>\n      <td>0</td>\n      <td>98178</td>\n      <td>47.51</td>\n      <td>-122.26</td>\n      <td>1340</td>\n      <td>5650</td>\n      <td>4470</td>\n      <td>4310</td>\n      <td>39.27</td>\n      <td>0.02</td>\n    </tr>\n    <tr>\n      <th>1</th>\n      <td>20141209T000000</td>\n      <td>538,000.00</td>\n      <td>3</td>\n      <td>2.25</td>\n      <td>2570</td>\n      <td>7242</td>\n      <td>2.00</td>\n      <td>0</td>\n      <td>0</td>\n      <td>3</td>\n      <td>...</td>\n      <td>1991</td>\n      <td>98125</td>\n      <td>47.72</td>\n      <td>-122.32</td>\n      <td>1690</td>\n      <td>7639</td>\n      <td>4672</td>\n      <td>5949</td>\n      <td>74.29</td>\n      <td>0.06</td>\n    </tr>\n    <tr>\n      <th>2</th>\n      <td>20150225T000000</td>\n      <td>180,000.00</td>\n      <td>2</td>\n      <td>1.00</td>\n      <td>770</td>\n      <td>10000</td>\n      <td>1.00</td>\n      <td>0</td>\n      <td>0</td>\n      <td>3</td>\n      <td>...</td>\n      <td>0</td>\n      <td>98028</td>\n      <td>47.74</td>\n      <td>-122.23</td>\n      <td>2720</td>\n      <td>8062</td>\n      <td>9230</td>\n      <td>5342</td>\n      <td>18.00</td>\n      <td>0.01</td>\n    </tr>\n    <tr>\n      <th>3</th>\n      <td>20141209T000000</td>\n      <td>604,000.00</td>\n      <td>4</td>\n      <td>3.00</td>\n      <td>1960</td>\n      <td>5000</td>\n      <td>1.00</td>\n      <td>0</td>\n      <td>0</td>\n      <td>5</td>\n      <td>...</td>\n      <td>0</td>\n      <td>98136</td>\n      <td>47.52</td>\n      <td>-122.39</td>\n      <td>1360</td>\n      <td>5000</td>\n      <td>3040</td>\n      <td>3640</td>\n      <td>120.80</td>\n      <td>0.07</td>\n    </tr>\n    <tr>\n      <th>4</th>\n      <td>20150218T000000</td>\n      <td>510,000.00</td>\n      <td>3</td>\n      <td>2.00</td>\n      <td>1680</td>\n      <td>8080</td>\n      <td>1.00</td>\n      <td>0</td>\n      <td>0</td>\n      <td>3</td>\n      <td>...</td>\n      <td>0</td>\n      <td>98074</td>\n      <td>47.62</td>\n      <td>-122.05</td>\n      <td>1800</td>\n      <td>7503</td>\n      <td>6400</td>\n      <td>5703</td>\n      <td>63.12</td>\n      <td>0.06</td>\n    </tr>\n    <tr>\n      <th>...</th>\n      <td>...</td>\n      <td>...</td>\n      <td>...</td>\n      <td>...</td>\n      <td>...</td>\n      <td>...</td>\n      <td>...</td>\n      <td>...</td>\n      <td>...</td>\n      <td>...</td>\n      <td>...</td>\n      <td>...</td>\n      <td>...</td>\n      <td>...</td>\n      <td>...</td>\n      <td>...</td>\n      <td>...</td>\n      <td>...</td>\n      <td>...</td>\n      <td>...</td>\n      <td>...</td>\n    </tr>\n    <tr>\n      <th>21608</th>\n      <td>20140521T000000</td>\n      <td>360,000.00</td>\n      <td>3</td>\n      <td>2.50</td>\n      <td>1530</td>\n      <td>1131</td>\n      <td>3.00</td>\n      <td>0</td>\n      <td>0</td>\n      <td>3</td>\n      <td>...</td>\n      <td>0</td>\n      <td>98103</td>\n      <td>47.70</td>\n      <td>-122.35</td>\n      <td>1530</td>\n      <td>1509</td>\n      <td>-399</td>\n      <td>-21</td>\n      <td>318.30</td>\n      <td>0.04</td>\n    </tr>\n    <tr>\n      <th>21609</th>\n      <td>20150223T000000</td>\n      <td>400,000.00</td>\n      <td>4</td>\n      <td>2.50</td>\n      <td>2310</td>\n      <td>5813</td>\n      <td>2.00</td>\n      <td>0</td>\n      <td>0</td>\n      <td>3</td>\n      <td>...</td>\n      <td>0</td>\n      <td>98146</td>\n      <td>47.51</td>\n      <td>-122.36</td>\n      <td>1830</td>\n      <td>7200</td>\n      <td>3503</td>\n      <td>5370</td>\n      <td>68.81</td>\n      <td>0.04</td>\n    </tr>\n    <tr>\n      <th>21610</th>\n      <td>20140623T000000</td>\n      <td>402,101.00</td>\n      <td>2</td>\n      <td>0.75</td>\n      <td>1020</td>\n      <td>1350</td>\n      <td>2.00</td>\n      <td>0</td>\n      <td>0</td>\n      <td>3</td>\n      <td>...</td>\n      <td>0</td>\n      <td>98144</td>\n      <td>47.59</td>\n      <td>-122.30</td>\n      <td>1020</td>\n      <td>2007</td>\n      <td>330</td>\n      <td>987</td>\n      <td>297.85</td>\n      <td>0.04</td>\n    </tr>\n    <tr>\n      <th>21611</th>\n      <td>20150116T000000</td>\n      <td>400,000.00</td>\n      <td>3</td>\n      <td>2.50</td>\n      <td>1600</td>\n      <td>2388</td>\n      <td>2.00</td>\n      <td>0</td>\n      <td>0</td>\n      <td>3</td>\n      <td>...</td>\n      <td>0</td>\n      <td>98027</td>\n      <td>47.53</td>\n      <td>-122.07</td>\n      <td>1410</td>\n      <td>1287</td>\n      <td>788</td>\n      <td>-123</td>\n      <td>167.50</td>\n      <td>0.04</td>\n    </tr>\n    <tr>\n      <th>21612</th>\n      <td>20141015T000000</td>\n      <td>325,000.00</td>\n      <td>2</td>\n      <td>0.75</td>\n      <td>1020</td>\n      <td>1076</td>\n      <td>2.00</td>\n      <td>0</td>\n      <td>0</td>\n      <td>3</td>\n      <td>...</td>\n      <td>0</td>\n      <td>98144</td>\n      <td>47.59</td>\n      <td>-122.30</td>\n      <td>1020</td>\n      <td>1357</td>\n      <td>56</td>\n      <td>337</td>\n      <td>302.04</td>\n      <td>0.03</td>\n    </tr>\n  </tbody>\n</table>\n<p>21613 rows × 24 columns</p>\n</div>"
     },
     "execution_count": 11,
     "metadata": {},
     "output_type": "execute_result"
    }
   ],
   "source": [
    "df"
   ],
   "metadata": {
    "collapsed": false,
    "ExecuteTime": {
     "start_time": "2023-06-09T14:25:30.991118Z",
     "end_time": "2023-06-09T14:25:31.039988Z"
    }
   }
  },
  {
   "cell_type": "code",
   "execution_count": null,
   "outputs": [],
   "source": [],
   "metadata": {
    "collapsed": false
   }
  }
 ],
 "metadata": {
  "kernelspec": {
   "display_name": "Python 3.11.2 64-bit",
   "language": "python",
   "name": "python3"
  },
  "language_info": {
   "name": "python",
   "version": "3.11.2"
  },
  "orig_nbformat": 4,
  "vscode": {
   "interpreter": {
    "hash": "aee8b7b246df8f9039afb4144a1f6fd8d2ca17a180786b69acc140d282b71a49"
   }
  }
 },
 "nbformat": 4,
 "nbformat_minor": 2
}
